{
 "cells": [
  {
   "cell_type": "code",
   "execution_count": 35,
   "id": "e0304416",
   "metadata": {},
   "outputs": [],
   "source": [
    "import pandas as pd\n",
    "import numpy as np\n",
    "import seaborn as sns\n",
    "import matplotlib.pyplot as mtp\n",
    "from sklearn import datasets\n",
    "from sklearn import metrics\n",
    "from sklearn.model_selection import train_test_split\n",
    "import matplotlib.pyplot as plt\n"
   ]
  },
  {
   "cell_type": "code",
   "execution_count": 36,
   "id": "ad71a106",
   "metadata": {},
   "outputs": [],
   "source": [
    "df=pd.read_csv(\"CO2_Emissions_Canada.csv\")"
   ]
  },
  {
   "cell_type": "code",
   "execution_count": 37,
   "id": "390d186d",
   "metadata": {},
   "outputs": [
    {
     "data": {
      "text/html": [
       "<div>\n",
       "<style scoped>\n",
       "    .dataframe tbody tr th:only-of-type {\n",
       "        vertical-align: middle;\n",
       "    }\n",
       "\n",
       "    .dataframe tbody tr th {\n",
       "        vertical-align: top;\n",
       "    }\n",
       "\n",
       "    .dataframe thead th {\n",
       "        text-align: right;\n",
       "    }\n",
       "</style>\n",
       "<table border=\"1\" class=\"dataframe\">\n",
       "  <thead>\n",
       "    <tr style=\"text-align: right;\">\n",
       "      <th></th>\n",
       "      <th>Make</th>\n",
       "      <th>Model</th>\n",
       "      <th>Vehicle_Class</th>\n",
       "      <th>Engine_Size</th>\n",
       "      <th>Cylinders</th>\n",
       "      <th>Transmission</th>\n",
       "      <th>Fuel_Type</th>\n",
       "      <th>Fuel_Consumption_City</th>\n",
       "      <th>Fuel_Consumption_Hwy</th>\n",
       "      <th>Fuel_Consumption_Comb</th>\n",
       "      <th>CO2_Emissions</th>\n",
       "    </tr>\n",
       "  </thead>\n",
       "  <tbody>\n",
       "    <tr>\n",
       "      <th>0</th>\n",
       "      <td>ACURA</td>\n",
       "      <td>ILX</td>\n",
       "      <td>COMPACT</td>\n",
       "      <td>2.0</td>\n",
       "      <td>4</td>\n",
       "      <td>AS5</td>\n",
       "      <td>Z</td>\n",
       "      <td>9.9</td>\n",
       "      <td>6.7</td>\n",
       "      <td>8.5</td>\n",
       "      <td>196</td>\n",
       "    </tr>\n",
       "    <tr>\n",
       "      <th>1</th>\n",
       "      <td>ACURA</td>\n",
       "      <td>ILX</td>\n",
       "      <td>COMPACT</td>\n",
       "      <td>2.4</td>\n",
       "      <td>4</td>\n",
       "      <td>M6</td>\n",
       "      <td>Z</td>\n",
       "      <td>11.2</td>\n",
       "      <td>7.7</td>\n",
       "      <td>9.6</td>\n",
       "      <td>221</td>\n",
       "    </tr>\n",
       "    <tr>\n",
       "      <th>2</th>\n",
       "      <td>ACURA</td>\n",
       "      <td>ILX HYBRID</td>\n",
       "      <td>COMPACT</td>\n",
       "      <td>1.5</td>\n",
       "      <td>4</td>\n",
       "      <td>AV7</td>\n",
       "      <td>Z</td>\n",
       "      <td>6.0</td>\n",
       "      <td>5.8</td>\n",
       "      <td>5.9</td>\n",
       "      <td>136</td>\n",
       "    </tr>\n",
       "    <tr>\n",
       "      <th>3</th>\n",
       "      <td>ACURA</td>\n",
       "      <td>MDX 4WD</td>\n",
       "      <td>SUV - SMALL</td>\n",
       "      <td>3.5</td>\n",
       "      <td>6</td>\n",
       "      <td>AS6</td>\n",
       "      <td>Z</td>\n",
       "      <td>12.7</td>\n",
       "      <td>9.1</td>\n",
       "      <td>11.1</td>\n",
       "      <td>255</td>\n",
       "    </tr>\n",
       "    <tr>\n",
       "      <th>4</th>\n",
       "      <td>ACURA</td>\n",
       "      <td>RDX AWD</td>\n",
       "      <td>SUV - SMALL</td>\n",
       "      <td>3.5</td>\n",
       "      <td>6</td>\n",
       "      <td>AS6</td>\n",
       "      <td>Z</td>\n",
       "      <td>12.1</td>\n",
       "      <td>8.7</td>\n",
       "      <td>10.6</td>\n",
       "      <td>244</td>\n",
       "    </tr>\n",
       "  </tbody>\n",
       "</table>\n",
       "</div>"
      ],
      "text/plain": [
       "    Make       Model Vehicle_Class  Engine_Size  Cylinders Transmission  \\\n",
       "0  ACURA         ILX       COMPACT          2.0          4          AS5   \n",
       "1  ACURA         ILX       COMPACT          2.4          4           M6   \n",
       "2  ACURA  ILX HYBRID       COMPACT          1.5          4          AV7   \n",
       "3  ACURA     MDX 4WD   SUV - SMALL          3.5          6          AS6   \n",
       "4  ACURA     RDX AWD   SUV - SMALL          3.5          6          AS6   \n",
       "\n",
       "  Fuel_Type  Fuel_Consumption_City  Fuel_Consumption_Hwy   \\\n",
       "0         Z                    9.9                    6.7   \n",
       "1         Z                   11.2                    7.7   \n",
       "2         Z                    6.0                    5.8   \n",
       "3         Z                   12.7                    9.1   \n",
       "4         Z                   12.1                    8.7   \n",
       "\n",
       "   Fuel_Consumption_Comb  CO2_Emissions  \n",
       "0                    8.5            196  \n",
       "1                    9.6            221  \n",
       "2                    5.9            136  \n",
       "3                   11.1            255  \n",
       "4                   10.6            244  "
      ]
     },
     "execution_count": 37,
     "metadata": {},
     "output_type": "execute_result"
    }
   ],
   "source": [
    "df.head()"
   ]
  },
  {
   "cell_type": "code",
   "execution_count": 38,
   "id": "023ef673",
   "metadata": {
    "scrolled": true
   },
   "outputs": [
    {
     "name": "stdout",
     "output_type": "stream",
     "text": [
      "<class 'pandas.core.frame.DataFrame'>\n",
      "RangeIndex: 7385 entries, 0 to 7384\n",
      "Data columns (total 11 columns):\n",
      " #   Column                 Non-Null Count  Dtype  \n",
      "---  ------                 --------------  -----  \n",
      " 0   Make                   7385 non-null   object \n",
      " 1   Model                  7385 non-null   object \n",
      " 2   Vehicle_Class          7385 non-null   object \n",
      " 3   Engine_Size            7385 non-null   float64\n",
      " 4   Cylinders              7385 non-null   int64  \n",
      " 5   Transmission           7385 non-null   object \n",
      " 6   Fuel_Type              7385 non-null   object \n",
      " 7   Fuel_Consumption_City  7385 non-null   float64\n",
      " 8   Fuel_Consumption_Hwy   7385 non-null   float64\n",
      " 9   Fuel_Consumption_Comb  7385 non-null   float64\n",
      " 10  CO2_Emissions          7385 non-null   int64  \n",
      "dtypes: float64(4), int64(2), object(5)\n",
      "memory usage: 634.8+ KB\n"
     ]
    }
   ],
   "source": [
    "df.info()"
   ]
  },
  {
   "cell_type": "code",
   "execution_count": 39,
   "id": "3ab084f8",
   "metadata": {},
   "outputs": [],
   "source": [
    "# From the data info we can find there is no missing data in any feature"
   ]
  },
  {
   "cell_type": "code",
   "execution_count": 40,
   "id": "a937838e",
   "metadata": {},
   "outputs": [],
   "source": [
    "# transform categorical data – numerical data by one hot encoding\n",
    "from sklearn.preprocessing import LabelEncoder\n",
    "encoder = LabelEncoder()\n",
    "x1 = df.Make.values\n",
    "encoder.fit(x1)\n",
    "df['Make'] = encoder.transform(x1)"
   ]
  },
  {
   "cell_type": "code",
   "execution_count": 41,
   "id": "d5f270a0",
   "metadata": {},
   "outputs": [],
   "source": [
    "from sklearn.preprocessing import LabelEncoder\n",
    "encoder = LabelEncoder()\n",
    "x2 = df.Model.values\n",
    "encoder.fit(x2)\n",
    "df['Model'] = encoder.transform(x2)"
   ]
  },
  {
   "cell_type": "code",
   "execution_count": 42,
   "id": "959efcc0",
   "metadata": {},
   "outputs": [],
   "source": [
    "from sklearn.preprocessing import LabelEncoder\n",
    "encoder = LabelEncoder()\n",
    "x3 = df.Vehicle_Class.values\n",
    "encoder.fit(x3)\n",
    "df['Vehicle_Class'] = encoder.transform(x3)"
   ]
  },
  {
   "cell_type": "code",
   "execution_count": 43,
   "id": "e724e6a3",
   "metadata": {},
   "outputs": [],
   "source": [
    "from sklearn.preprocessing import LabelEncoder\n",
    "encoder = LabelEncoder()\n",
    "x4 = df.Transmission.values\n",
    "encoder.fit(x4)\n",
    "df['Transmission'] = encoder.transform(x4)"
   ]
  },
  {
   "cell_type": "code",
   "execution_count": 44,
   "id": "f81422d8",
   "metadata": {},
   "outputs": [],
   "source": [
    "from sklearn.preprocessing import LabelEncoder\n",
    "encoder = LabelEncoder()\n",
    "x5 = df.Fuel_Type.values\n",
    "encoder.fit(x5)\n",
    "df['Fuel_Type'] = encoder.transform(x5)"
   ]
  },
  {
   "cell_type": "code",
   "execution_count": 45,
   "id": "d87d080f",
   "metadata": {},
   "outputs": [
    {
     "data": {
      "text/html": [
       "<div>\n",
       "<style scoped>\n",
       "    .dataframe tbody tr th:only-of-type {\n",
       "        vertical-align: middle;\n",
       "    }\n",
       "\n",
       "    .dataframe tbody tr th {\n",
       "        vertical-align: top;\n",
       "    }\n",
       "\n",
       "    .dataframe thead th {\n",
       "        text-align: right;\n",
       "    }\n",
       "</style>\n",
       "<table border=\"1\" class=\"dataframe\">\n",
       "  <thead>\n",
       "    <tr style=\"text-align: right;\">\n",
       "      <th></th>\n",
       "      <th>Make</th>\n",
       "      <th>Model</th>\n",
       "      <th>Vehicle_Class</th>\n",
       "      <th>Engine_Size</th>\n",
       "      <th>Cylinders</th>\n",
       "      <th>Transmission</th>\n",
       "      <th>Fuel_Type</th>\n",
       "      <th>Fuel_Consumption_City</th>\n",
       "      <th>Fuel_Consumption_Hwy</th>\n",
       "      <th>Fuel_Consumption_Comb</th>\n",
       "      <th>CO2_Emissions</th>\n",
       "    </tr>\n",
       "  </thead>\n",
       "  <tbody>\n",
       "    <tr>\n",
       "      <th>0</th>\n",
       "      <td>0</td>\n",
       "      <td>1057</td>\n",
       "      <td>0</td>\n",
       "      <td>2.0</td>\n",
       "      <td>4</td>\n",
       "      <td>14</td>\n",
       "      <td>4</td>\n",
       "      <td>9.9</td>\n",
       "      <td>6.7</td>\n",
       "      <td>8.5</td>\n",
       "      <td>196</td>\n",
       "    </tr>\n",
       "    <tr>\n",
       "      <th>1</th>\n",
       "      <td>0</td>\n",
       "      <td>1057</td>\n",
       "      <td>0</td>\n",
       "      <td>2.4</td>\n",
       "      <td>4</td>\n",
       "      <td>25</td>\n",
       "      <td>4</td>\n",
       "      <td>11.2</td>\n",
       "      <td>7.7</td>\n",
       "      <td>9.6</td>\n",
       "      <td>221</td>\n",
       "    </tr>\n",
       "    <tr>\n",
       "      <th>2</th>\n",
       "      <td>0</td>\n",
       "      <td>1058</td>\n",
       "      <td>0</td>\n",
       "      <td>1.5</td>\n",
       "      <td>4</td>\n",
       "      <td>22</td>\n",
       "      <td>4</td>\n",
       "      <td>6.0</td>\n",
       "      <td>5.8</td>\n",
       "      <td>5.9</td>\n",
       "      <td>136</td>\n",
       "    </tr>\n",
       "    <tr>\n",
       "      <th>3</th>\n",
       "      <td>0</td>\n",
       "      <td>1233</td>\n",
       "      <td>11</td>\n",
       "      <td>3.5</td>\n",
       "      <td>6</td>\n",
       "      <td>15</td>\n",
       "      <td>4</td>\n",
       "      <td>12.7</td>\n",
       "      <td>9.1</td>\n",
       "      <td>11.1</td>\n",
       "      <td>255</td>\n",
       "    </tr>\n",
       "    <tr>\n",
       "      <th>4</th>\n",
       "      <td>0</td>\n",
       "      <td>1499</td>\n",
       "      <td>11</td>\n",
       "      <td>3.5</td>\n",
       "      <td>6</td>\n",
       "      <td>15</td>\n",
       "      <td>4</td>\n",
       "      <td>12.1</td>\n",
       "      <td>8.7</td>\n",
       "      <td>10.6</td>\n",
       "      <td>244</td>\n",
       "    </tr>\n",
       "  </tbody>\n",
       "</table>\n",
       "</div>"
      ],
      "text/plain": [
       "   Make  Model  Vehicle_Class  Engine_Size  Cylinders  Transmission  \\\n",
       "0     0   1057              0          2.0          4            14   \n",
       "1     0   1057              0          2.4          4            25   \n",
       "2     0   1058              0          1.5          4            22   \n",
       "3     0   1233             11          3.5          6            15   \n",
       "4     0   1499             11          3.5          6            15   \n",
       "\n",
       "   Fuel_Type  Fuel_Consumption_City  Fuel_Consumption_Hwy   \\\n",
       "0          4                    9.9                    6.7   \n",
       "1          4                   11.2                    7.7   \n",
       "2          4                    6.0                    5.8   \n",
       "3          4                   12.7                    9.1   \n",
       "4          4                   12.1                    8.7   \n",
       "\n",
       "   Fuel_Consumption_Comb  CO2_Emissions  \n",
       "0                    8.5            196  \n",
       "1                    9.6            221  \n",
       "2                    5.9            136  \n",
       "3                   11.1            255  \n",
       "4                   10.6            244  "
      ]
     },
     "execution_count": 45,
     "metadata": {},
     "output_type": "execute_result"
    }
   ],
   "source": [
    "df.head()"
   ]
  },
  {
   "cell_type": "code",
   "execution_count": 46,
   "id": "c1d380e4",
   "metadata": {},
   "outputs": [
    {
     "data": {
      "image/png": "[encoded data removed]",
      "text/plain": [
       "<Figure size 1080x720 with 2 Axes>"
      ]
     },
     "metadata": {
      "needs_background": "light"
     },
     "output_type": "display_data"
    }
   ],
   "source": [
    "\n",
    "\n",
    "mtp.figure(figsize = (15,10))\n",
    "sns.heatmap(df.corr(), vmin = -1, vmax = 1, annot = True);\n"
   ]
  },
  {
   "cell_type": "code",
   "execution_count": 47,
   "id": "24434308",
   "metadata": {
    "scrolled": true
   },
   "outputs": [
    {
     "data": {
      "text/plain": [
       "<function matplotlib.pyplot.show(close=None, block=None)>"
      ]
     },
     "execution_count": 47,
     "metadata": {},
     "output_type": "execute_result"
    },
    {
     "data": {
      "image/png": "[encoded data removed]",
      "text/plain": [
       "<Figure size 432x288 with 1 Axes>"
      ]
     },
     "metadata": {
      "needs_background": "light"
     },
     "output_type": "display_data"
    }
   ],
   "source": [
    "x=df['Model']\n",
    "y=df['CO2_Emissions']\n",
    "mtp.scatter(x,y)\n",
    "mtp.show"
   ]
  },
  {
   "cell_type": "code",
   "execution_count": 48,
   "id": "ac04e05e",
   "metadata": {},
   "outputs": [
    {
     "data": {
      "text/plain": [
       "<function matplotlib.pyplot.show(close=None, block=None)>"
      ]
     },
     "execution_count": 48,
     "metadata": {},
     "output_type": "execute_result"
    },
    {
     "data": {
      "image/png": "[encoded data removed]",
      "text/plain": [
       "<Figure size 432x288 with 1 Axes>"
      ]
     },
     "metadata": {
      "needs_background": "light"
     },
     "output_type": "display_data"
    }
   ],
   "source": [
    "x=df['Engine_Size']\n",
    "y=df['CO2_Emissions']\n",
    "mtp.scatter(x,y)\n",
    "mtp.show"
   ]
  },
  {
   "cell_type": "markdown",
   "id": "b8321992",
   "metadata": {},
   "source": [
    "From the correlation analysis we can find the fuel consumption(city/hwy/comb) is high related to CO2 Emissions, so we pick the other parameters as feature, and also, there is no other feature dropped."
   ]
  },
  {
   "cell_type": "code",
   "execution_count": 49,
   "id": "4311cdf1",
   "metadata": {},
   "outputs": [
    {
     "data": {
      "text/html": [
       "<div>\n",
       "<style scoped>\n",
       "    .dataframe tbody tr th:only-of-type {\n",
       "        vertical-align: middle;\n",
       "    }\n",
       "\n",
       "    .dataframe tbody tr th {\n",
       "        vertical-align: top;\n",
       "    }\n",
       "\n",
       "    .dataframe thead th {\n",
       "        text-align: right;\n",
       "    }\n",
       "</style>\n",
       "<table border=\"1\" class=\"dataframe\">\n",
       "  <thead>\n",
       "    <tr style=\"text-align: right;\">\n",
       "      <th></th>\n",
       "      <th>Make</th>\n",
       "      <th>Model</th>\n",
       "      <th>Vehicle_Class</th>\n",
       "      <th>Engine_Size</th>\n",
       "      <th>Cylinders</th>\n",
       "      <th>Transmission</th>\n",
       "      <th>Fuel_Type</th>\n",
       "      <th>Fuel_Consumption_City</th>\n",
       "      <th>Fuel_Consumption_Hwy</th>\n",
       "      <th>Fuel_Consumption_Comb</th>\n",
       "      <th>CO2_Emissions</th>\n",
       "    </tr>\n",
       "  </thead>\n",
       "  <tbody>\n",
       "    <tr>\n",
       "      <th>0</th>\n",
       "      <td>0</td>\n",
       "      <td>1057</td>\n",
       "      <td>0</td>\n",
       "      <td>2.0</td>\n",
       "      <td>4</td>\n",
       "      <td>14</td>\n",
       "      <td>4</td>\n",
       "      <td>9.9</td>\n",
       "      <td>6.7</td>\n",
       "      <td>8.5</td>\n",
       "      <td>196</td>\n",
       "    </tr>\n",
       "    <tr>\n",
       "      <th>1</th>\n",
       "      <td>0</td>\n",
       "      <td>1057</td>\n",
       "      <td>0</td>\n",
       "      <td>2.4</td>\n",
       "      <td>4</td>\n",
       "      <td>25</td>\n",
       "      <td>4</td>\n",
       "      <td>11.2</td>\n",
       "      <td>7.7</td>\n",
       "      <td>9.6</td>\n",
       "      <td>221</td>\n",
       "    </tr>\n",
       "    <tr>\n",
       "      <th>2</th>\n",
       "      <td>0</td>\n",
       "      <td>1058</td>\n",
       "      <td>0</td>\n",
       "      <td>1.5</td>\n",
       "      <td>4</td>\n",
       "      <td>22</td>\n",
       "      <td>4</td>\n",
       "      <td>6.0</td>\n",
       "      <td>5.8</td>\n",
       "      <td>5.9</td>\n",
       "      <td>136</td>\n",
       "    </tr>\n",
       "    <tr>\n",
       "      <th>3</th>\n",
       "      <td>0</td>\n",
       "      <td>1233</td>\n",
       "      <td>11</td>\n",
       "      <td>3.5</td>\n",
       "      <td>6</td>\n",
       "      <td>15</td>\n",
       "      <td>4</td>\n",
       "      <td>12.7</td>\n",
       "      <td>9.1</td>\n",
       "      <td>11.1</td>\n",
       "      <td>255</td>\n",
       "    </tr>\n",
       "    <tr>\n",
       "      <th>4</th>\n",
       "      <td>0</td>\n",
       "      <td>1499</td>\n",
       "      <td>11</td>\n",
       "      <td>3.5</td>\n",
       "      <td>6</td>\n",
       "      <td>15</td>\n",
       "      <td>4</td>\n",
       "      <td>12.1</td>\n",
       "      <td>8.7</td>\n",
       "      <td>10.6</td>\n",
       "      <td>244</td>\n",
       "    </tr>\n",
       "    <tr>\n",
       "      <th>...</th>\n",
       "      <td>...</td>\n",
       "      <td>...</td>\n",
       "      <td>...</td>\n",
       "      <td>...</td>\n",
       "      <td>...</td>\n",
       "      <td>...</td>\n",
       "      <td>...</td>\n",
       "      <td>...</td>\n",
       "      <td>...</td>\n",
       "      <td>...</td>\n",
       "      <td>...</td>\n",
       "    </tr>\n",
       "    <tr>\n",
       "      <th>7380</th>\n",
       "      <td>41</td>\n",
       "      <td>1951</td>\n",
       "      <td>11</td>\n",
       "      <td>2.0</td>\n",
       "      <td>4</td>\n",
       "      <td>17</td>\n",
       "      <td>4</td>\n",
       "      <td>10.7</td>\n",
       "      <td>7.7</td>\n",
       "      <td>9.4</td>\n",
       "      <td>219</td>\n",
       "    </tr>\n",
       "    <tr>\n",
       "      <th>7381</th>\n",
       "      <td>41</td>\n",
       "      <td>1957</td>\n",
       "      <td>11</td>\n",
       "      <td>2.0</td>\n",
       "      <td>4</td>\n",
       "      <td>17</td>\n",
       "      <td>4</td>\n",
       "      <td>11.2</td>\n",
       "      <td>8.3</td>\n",
       "      <td>9.9</td>\n",
       "      <td>232</td>\n",
       "    </tr>\n",
       "    <tr>\n",
       "      <th>7382</th>\n",
       "      <td>41</td>\n",
       "      <td>1960</td>\n",
       "      <td>11</td>\n",
       "      <td>2.0</td>\n",
       "      <td>4</td>\n",
       "      <td>17</td>\n",
       "      <td>4</td>\n",
       "      <td>11.7</td>\n",
       "      <td>8.6</td>\n",
       "      <td>10.3</td>\n",
       "      <td>240</td>\n",
       "    </tr>\n",
       "    <tr>\n",
       "      <th>7383</th>\n",
       "      <td>41</td>\n",
       "      <td>1968</td>\n",
       "      <td>12</td>\n",
       "      <td>2.0</td>\n",
       "      <td>4</td>\n",
       "      <td>17</td>\n",
       "      <td>4</td>\n",
       "      <td>11.2</td>\n",
       "      <td>8.3</td>\n",
       "      <td>9.9</td>\n",
       "      <td>232</td>\n",
       "    </tr>\n",
       "    <tr>\n",
       "      <th>7384</th>\n",
       "      <td>41</td>\n",
       "      <td>1969</td>\n",
       "      <td>12</td>\n",
       "      <td>2.0</td>\n",
       "      <td>4</td>\n",
       "      <td>17</td>\n",
       "      <td>4</td>\n",
       "      <td>12.2</td>\n",
       "      <td>8.7</td>\n",
       "      <td>10.7</td>\n",
       "      <td>248</td>\n",
       "    </tr>\n",
       "  </tbody>\n",
       "</table>\n",
       "<p>7385 rows × 11 columns</p>\n",
       "</div>"
      ],
      "text/plain": [
       "      Make  Model  Vehicle_Class  Engine_Size  Cylinders  Transmission  \\\n",
       "0        0   1057              0          2.0          4            14   \n",
       "1        0   1057              0          2.4          4            25   \n",
       "2        0   1058              0          1.5          4            22   \n",
       "3        0   1233             11          3.5          6            15   \n",
       "4        0   1499             11          3.5          6            15   \n",
       "...    ...    ...            ...          ...        ...           ...   \n",
       "7380    41   1951             11          2.0          4            17   \n",
       "7381    41   1957             11          2.0          4            17   \n",
       "7382    41   1960             11          2.0          4            17   \n",
       "7383    41   1968             12          2.0          4            17   \n",
       "7384    41   1969             12          2.0          4            17   \n",
       "\n",
       "      Fuel_Type  Fuel_Consumption_City  Fuel_Consumption_Hwy   \\\n",
       "0             4                    9.9                    6.7   \n",
       "1             4                   11.2                    7.7   \n",
       "2             4                    6.0                    5.8   \n",
       "3             4                   12.7                    9.1   \n",
       "4             4                   12.1                    8.7   \n",
       "...         ...                    ...                    ...   \n",
       "7380          4                   10.7                    7.7   \n",
       "7381          4                   11.2                    8.3   \n",
       "7382          4                   11.7                    8.6   \n",
       "7383          4                   11.2                    8.3   \n",
       "7384          4                   12.2                    8.7   \n",
       "\n",
       "      Fuel_Consumption_Comb  CO2_Emissions  \n",
       "0                       8.5            196  \n",
       "1                       9.6            221  \n",
       "2                       5.9            136  \n",
       "3                      11.1            255  \n",
       "4                      10.6            244  \n",
       "...                     ...            ...  \n",
       "7380                    9.4            219  \n",
       "7381                    9.9            232  \n",
       "7382                   10.3            240  \n",
       "7383                    9.9            232  \n",
       "7384                   10.7            248  \n",
       "\n",
       "[7385 rows x 11 columns]"
      ]
     },
     "execution_count": 49,
     "metadata": {},
     "output_type": "execute_result"
    }
   ],
   "source": [
    "df.reset_index(drop=True,inplace=True)\n",
    "df.dropna(inplace=True)\n",
    "df"
   ]
  },
  {
   "cell_type": "code",
   "execution_count": 50,
   "id": "d3e39b1c",
   "metadata": {},
   "outputs": [],
   "source": [
    "df_independent=df[[\"Make\",\"Model\",\"Vehicle_Class\",\"Engine_Size\",\"Cylinders\",\"Transmission\",\"Fuel_Type\"]]"
   ]
  },
  {
   "cell_type": "code",
   "execution_count": 51,
   "id": "568a906d",
   "metadata": {},
   "outputs": [],
   "source": [
    "# Split the data to training and testing\n",
    "from sklearn.model_selection import train_test_split\n",
    "X_train, X_test, y_train, y_test = train_test_split(df_independent, df['CO2_Emissions'], test_size = 0.20, random_state = 0)"
   ]
  },
  {
   "cell_type": "code",
   "execution_count": 52,
   "id": "ad1c77b4",
   "metadata": {},
   "outputs": [],
   "source": [
    "df_lg= X_train"
   ]
  },
  {
   "cell_type": "code",
   "execution_count": 53,
   "id": "635bb6bc",
   "metadata": {},
   "outputs": [
    {
     "name": "stderr",
     "output_type": "stream",
     "text": [
      "<ipython-input-53-1cae21473cf3>:1: SettingWithCopyWarning: \n",
      "A value is trying to be set on a copy of a slice from a DataFrame.\n",
      "Try using .loc[row_indexer,col_indexer] = value instead\n",
      "\n",
      "See the caveats in the documentation: https://pandas.pydata.org/pandas-docs/stable/user_guide/indexing.html#returning-a-view-versus-a-copy\n",
      "  df_lg['CO2_Emissions']=y_train\n"
     ]
    }
   ],
   "source": [
    "df_lg['CO2_Emissions']=y_train"
   ]
  },
  {
   "cell_type": "code",
   "execution_count": 54,
   "id": "06e38086",
   "metadata": {},
   "outputs": [
    {
     "data": {
      "text/html": [
       "<table class=\"simpletable\">\n",
       "<caption>OLS Regression Results</caption>\n",
       "<tr>\n",
       "  <th>Dep. Variable:</th>      <td>CO2_Emissions</td>  <th>  R-squared:         </th> <td>   0.770</td> \n",
       "</tr>\n",
       "<tr>\n",
       "  <th>Model:</th>                   <td>OLS</td>       <th>  Adj. R-squared:    </th> <td>   0.770</td> \n",
       "</tr>\n",
       "<tr>\n",
       "  <th>Method:</th>             <td>Least Squares</td>  <th>  F-statistic:       </th> <td>   2822.</td> \n",
       "</tr>\n",
       "<tr>\n",
       "  <th>Date:</th>             <td>Fri, 23 Dec 2022</td> <th>  Prob (F-statistic):</th>  <td>  0.00</td>  \n",
       "</tr>\n",
       "<tr>\n",
       "  <th>Time:</th>                 <td>17:01:48</td>     <th>  Log-Likelihood:    </th> <td> -28081.</td> \n",
       "</tr>\n",
       "<tr>\n",
       "  <th>No. Observations:</th>      <td>  5908</td>      <th>  AIC:               </th> <td>5.618e+04</td>\n",
       "</tr>\n",
       "<tr>\n",
       "  <th>Df Residuals:</th>          <td>  5900</td>      <th>  BIC:               </th> <td>5.623e+04</td>\n",
       "</tr>\n",
       "<tr>\n",
       "  <th>Df Model:</th>              <td>     7</td>      <th>                     </th>     <td> </td>    \n",
       "</tr>\n",
       "<tr>\n",
       "  <th>Covariance Type:</th>      <td>nonrobust</td>    <th>                     </th>     <td> </td>    \n",
       "</tr>\n",
       "</table>\n",
       "<table class=\"simpletable\">\n",
       "<tr>\n",
       "        <td></td>           <th>coef</th>     <th>std err</th>      <th>t</th>      <th>P>|t|</th>  <th>[0.025</th>    <th>0.975]</th>  \n",
       "</tr>\n",
       "<tr>\n",
       "  <th>Intercept</th>     <td>  104.3561</td> <td>    2.116</td> <td>   49.314</td> <td> 0.000</td> <td>  100.208</td> <td>  108.505</td>\n",
       "</tr>\n",
       "<tr>\n",
       "  <th>Make</th>          <td>   -0.0468</td> <td>    0.033</td> <td>   -1.414</td> <td> 0.157</td> <td>   -0.112</td> <td>    0.018</td>\n",
       "</tr>\n",
       "<tr>\n",
       "  <th>Model</th>         <td>    0.0024</td> <td>    0.001</td> <td>    3.682</td> <td> 0.000</td> <td>    0.001</td> <td>    0.004</td>\n",
       "</tr>\n",
       "<tr>\n",
       "  <th>Vehicle_Class</th> <td>    2.0419</td> <td>    0.079</td> <td>   25.987</td> <td> 0.000</td> <td>    1.888</td> <td>    2.196</td>\n",
       "</tr>\n",
       "<tr>\n",
       "  <th>Engine_Size</th>   <td>   21.2942</td> <td>    0.745</td> <td>   28.589</td> <td> 0.000</td> <td>   19.834</td> <td>   22.754</td>\n",
       "</tr>\n",
       "<tr>\n",
       "  <th>Cylinders</th>     <td>   10.6977</td> <td>    0.547</td> <td>   19.546</td> <td> 0.000</td> <td>    9.625</td> <td>   11.771</td>\n",
       "</tr>\n",
       "<tr>\n",
       "  <th>Transmission</th>  <td>   -0.4001</td> <td>    0.056</td> <td>   -7.192</td> <td> 0.000</td> <td>   -0.509</td> <td>   -0.291</td>\n",
       "</tr>\n",
       "<tr>\n",
       "  <th>Fuel_Type</th>     <td>    3.0491</td> <td>    0.437</td> <td>    6.979</td> <td> 0.000</td> <td>    2.193</td> <td>    3.906</td>\n",
       "</tr>\n",
       "</table>\n",
       "<table class=\"simpletable\">\n",
       "<tr>\n",
       "  <th>Omnibus:</th>       <td>166.530</td> <th>  Durbin-Watson:     </th> <td>   2.013</td>\n",
       "</tr>\n",
       "<tr>\n",
       "  <th>Prob(Omnibus):</th> <td> 0.000</td>  <th>  Jarque-Bera (JB):  </th> <td> 395.719</td>\n",
       "</tr>\n",
       "<tr>\n",
       "  <th>Skew:</th>          <td> 0.100</td>  <th>  Prob(JB):          </th> <td>1.18e-86</td>\n",
       "</tr>\n",
       "<tr>\n",
       "  <th>Kurtosis:</th>      <td> 4.252</td>  <th>  Cond. No.          </th> <td>6.86e+03</td>\n",
       "</tr>\n",
       "</table><br/><br/>Notes:<br/>[1] Standard Errors assume that the covariance matrix of the errors is correctly specified.<br/>[2] The condition number is large, 6.86e+03. This might indicate that there are<br/>strong multicollinearity or other numerical problems."
      ],
      "text/plain": [
       "<class 'statsmodels.iolib.summary.Summary'>\n",
       "\"\"\"\n",
       "                            OLS Regression Results                            \n",
       "==============================================================================\n",
       "Dep. Variable:          CO2_Emissions   R-squared:                       0.770\n",
       "Model:                            OLS   Adj. R-squared:                  0.770\n",
       "Method:                 Least Squares   F-statistic:                     2822.\n",
       "Date:                Fri, 23 Dec 2022   Prob (F-statistic):               0.00\n",
       "Time:                        17:01:48   Log-Likelihood:                -28081.\n",
       "No. Observations:                5908   AIC:                         5.618e+04\n",
       "Df Residuals:                    5900   BIC:                         5.623e+04\n",
       "Df Model:                           7                                         \n",
       "Covariance Type:            nonrobust                                         \n",
       "=================================================================================\n",
       "                    coef    std err          t      P>|t|      [0.025      0.975]\n",
       "---------------------------------------------------------------------------------\n",
       "Intercept       104.3561      2.116     49.314      0.000     100.208     108.505\n",
       "Make             -0.0468      0.033     -1.414      0.157      -0.112       0.018\n",
       "Model             0.0024      0.001      3.682      0.000       0.001       0.004\n",
       "Vehicle_Class     2.0419      0.079     25.987      0.000       1.888       2.196\n",
       "Engine_Size      21.2942      0.745     28.589      0.000      19.834      22.754\n",
       "Cylinders        10.6977      0.547     19.546      0.000       9.625      11.771\n",
       "Transmission     -0.4001      0.056     -7.192      0.000      -0.509      -0.291\n",
       "Fuel_Type         3.0491      0.437      6.979      0.000       2.193       3.906\n",
       "==============================================================================\n",
       "Omnibus:                      166.530   Durbin-Watson:                   2.013\n",
       "Prob(Omnibus):                  0.000   Jarque-Bera (JB):              395.719\n",
       "Skew:                           0.100   Prob(JB):                     1.18e-86\n",
       "Kurtosis:                       4.252   Cond. No.                     6.86e+03\n",
       "==============================================================================\n",
       "\n",
       "Notes:\n",
       "[1] Standard Errors assume that the covariance matrix of the errors is correctly specified.\n",
       "[2] The condition number is large, 6.86e+03. This might indicate that there are\n",
       "strong multicollinearity or other numerical problems.\n",
       "\"\"\""
      ]
     },
     "execution_count": 54,
     "metadata": {},
     "output_type": "execute_result"
    }
   ],
   "source": [
    "import statsmodels.formula.api as smf\n",
    "\n",
    "# Fit linear regression using statsmodels\n",
    "linear_reg = smf.ols('CO2_Emissions ~ Make + Model+ Vehicle_Class+Engine_Size+Cylinders+Transmission+Fuel_Type', data = df_lg).fit()\n",
    "linear_reg.summary()\n"
   ]
  },
  {
   "cell_type": "code",
   "execution_count": 55,
   "id": "c2089a5f",
   "metadata": {},
   "outputs": [
    {
     "name": "stdout",
     "output_type": "stream",
     "text": [
      "X_train (5908, 7)\n",
      "y_train (5908,)\n",
      "X_test (1477, 7)\n",
      "y_test (1477,)\n"
     ]
    }
   ],
   "source": [
    "from sklearn.model_selection import train_test_split\n",
    "from sklearn.metrics import mean_squared_error \n",
    "from sklearn.metrics import accuracy_score, mean_absolute_error, r2_score, explained_variance_score\n",
    "\n",
    "X_train, X_test, y_train, y_test = train_test_split(df_independent, df['CO2_Emissions'], test_size = 0.20, random_state = 0)\n",
    "\n",
    "print(\"X_train\", X_train.shape)\n",
    "\n",
    "print(\"y_train\",y_train.shape)\n",
    "\n",
    "print(\"X_test\",X_test.shape)\n",
    "\n",
    "print(\"y_test\",y_test.shape)"
   ]
  },
  {
   "cell_type": "code",
   "execution_count": 56,
   "id": "75188817",
   "metadata": {},
   "outputs": [
    {
     "data": {
      "text/plain": [
       "[<matplotlib.lines.Line2D at 0x2028492de20>]"
      ]
     },
     "execution_count": 56,
     "metadata": {},
     "output_type": "execute_result"
    },
    {
     "data": {
      "image/png": "[encoded data removed]",
      "text/plain": [
       "<Figure size 432x288 with 1 Axes>"
      ]
     },
     "metadata": {
      "needs_background": "light"
     },
     "output_type": "display_data"
    }
   ],
   "source": [
    "# knn\n",
    "from sklearn.neighbors import KNeighborsRegressor\n",
    "score_list = []\n",
    "for k in range(1,100):\n",
    "    knn = KNeighborsRegressor(n_neighbors=k)\n",
    "    knn.fit(X_train, y_train)\n",
    "    knn_pred = knn.predict(X_test)\n",
    "    score_list.append(knn.score(X_test,y_test))\n",
    "    \n",
    "import matplotlib.pyplot as plt\n",
    "plt.plot(range(1,100), score_list)"
   ]
  },
  {
   "cell_type": "code",
   "execution_count": 57,
   "id": "0811083a",
   "metadata": {},
   "outputs": [
    {
     "name": "stdout",
     "output_type": "stream",
     "text": [
      "0.9490218997072437\n"
     ]
    }
   ],
   "source": [
    "knn = KNeighborsRegressor(n_neighbors=1)\n",
    "knn.fit(X_train, y_train)\n",
    "knn_pred = knn.predict(X_test)\n",
    "knn_acc = knn.score(X_test,y_test)\n",
    "print(knn_acc)"
   ]
  },
  {
   "cell_type": "code",
   "execution_count": 58,
   "id": "3b9de836",
   "metadata": {
    "scrolled": true
   },
   "outputs": [
    {
     "name": "stdout",
     "output_type": "stream",
     "text": [
      "Mean Squared Error (MSE):  22.0692\n",
      "R- Squared (R-square):  0.857821698612464\n",
      "KNN Acuracy: 0.9490218997072437\n"
     ]
    }
   ],
   "source": [
    "from sklearn.neighbors import KNeighborsRegressor\n",
    "knn_model = KNeighborsRegressor().fit(X_train, y_train)\n",
    "knn_model\n",
    "y_pred = knn_model.predict(X_test)\n",
    "np.sqrt(mean_squared_error(y_test, y_pred))\n",
    "knn_model.score(X_train, y_train)\n",
    "knn_model.score(X_test, y_test)\n",
    "\n",
    "from sklearn.model_selection import GridSearchCV\n",
    "knn_params = {'n_neighbors': np.arange(1,30,1)}\n",
    "knn = KNeighborsRegressor()\n",
    "knn_cv_model = GridSearchCV(knn, knn_params, cv = 10)\n",
    "\n",
    "knn_cv_model.fit(X_train, y_train)\n",
    "knn_cv_model.best_params_[\"n_neighbors\"]\n",
    "knn_tuned = KNeighborsRegressor(n_neighbors = knn_cv_model.best_params_[\"n_neighbors\"])\n",
    "\n",
    "knn_tuned.fit(X_train, y_train)\n",
    "np.sqrt(mean_squared_error(y_test, knn_tuned.predict(X_test)))\n",
    "\n",
    "mse = round(np.sqrt(mean_squared_error(y_test,y_pred)),4)\n",
    "print('Mean Squared Error (MSE): ',mse)\n",
    "print('R- Squared (R-square): ',r2_score(y_test,y_pred))\n",
    "\n",
    "print('KNN Acuracy:', knn_acc)"
   ]
  },
  {
   "cell_type": "code",
   "execution_count": 59,
   "id": "eb230f4b",
   "metadata": {},
   "outputs": [],
   "source": [
    "# The whole inputs and outputs.\n",
    "X = df_independent\n",
    "y = df['CO2_Emissions']"
   ]
  },
  {
   "cell_type": "code",
   "execution_count": 60,
   "id": "a5bb0ff2",
   "metadata": {
    "scrolled": false
   },
   "outputs": [
    {
     "data": {
      "text/plain": [
       "Text(0.5, 0, 'Relative Importance')"
      ]
     },
     "execution_count": 60,
     "metadata": {},
     "output_type": "execute_result"
    },
    {
     "data": {
      "image/png": "[encoded data removed]",
      "text/plain": [
       "<Figure size 864x864 with 1 Axes>"
      ]
     },
     "metadata": {
      "needs_background": "light"
     },
     "output_type": "display_data"
    }
   ],
   "source": [
    "# Random Forest\n",
    "from sklearn.ensemble import RandomForestClassifier\n",
    "model = RandomForestClassifier(n_estimators=10)\n",
    "model.fit(X_train,np.ravel(y_train))\n",
    "\n",
    "import matplotlib.pyplot as plt\n",
    "%matplotlib inline\n",
    "importances = model.feature_importances_\n",
    "indices = np.argsort(importances)\n",
    "plt.figure(figsize=(12,12))\n",
    "plt.title('Feature Importances')\n",
    "plt.barh(range(len(indices)), importances[indices], color='b', align='center')\n",
    "plt.yticks(range(len(indices)),np.array([\"Make\",\"Model\",\"Vehicle_Class\",\"Engine_Size\",\"Cylinders\",\"Transmission\",\"Fuel_Type\"])[indices])\n",
    "plt.xlabel('Relative Importance')"
   ]
  },
  {
   "cell_type": "code",
   "execution_count": 61,
   "id": "3b70adc4",
   "metadata": {},
   "outputs": [
    {
     "name": "stderr",
     "output_type": "stream",
     "text": [
      "C:\\Users\\wssh1\\anaconda3\\lib\\site-packages\\sklearn\\model_selection\\_split.py:666: UserWarning: The least populated class in y has only 1 members, which is less than n_splits=3.\n",
      "  warnings.warn((\"The least populated class in y has only %d\"\n"
     ]
    },
    {
     "data": {
      "text/plain": [
       "(0.194715988043316,\n",
       " {'max_features': 5, 'max_samples': 1.0, 'n_estimators': 30})"
      ]
     },
     "execution_count": 61,
     "metadata": {},
     "output_type": "execute_result"
    }
   ],
   "source": [
    "# Random Forest\n",
    "from sklearn.model_selection import GridSearchCV\n",
    "from sklearn.ensemble import BaggingClassifier\n",
    "\n",
    "parameters = {\n",
    "     'n_estimators':(10,30), \n",
    "     'max_samples':(.30,.50,1.0), \n",
    "     'max_features':(1,3,5,7),\n",
    "}\n",
    "\n",
    "model1 = GridSearchCV(BaggingClassifier(),parameters,cv=3)\n",
    "model1.fit(X,y)\n",
    "model1.best_score_, model1.best_params_"
   ]
  },
  {
   "cell_type": "code",
   "execution_count": 62,
   "id": "8b6e5f58",
   "metadata": {},
   "outputs": [
    {
     "name": "stdout",
     "output_type": "stream",
     "text": [
      "0.26472579553148273\n",
      "Mean Squared Error (MSE):  10.9905\n",
      "R- Squared (R-square):  0.9647390157948054\n"
     ]
    }
   ],
   "source": [
    "rf = BaggingClassifier(max_samples=1.0,n_estimators=30,max_features=5)\n",
    "rf.fit(X_train,y_train)\n",
    "rf_acc = rf.score(X_test,y_test)\n",
    "print(rf_acc)\n",
    "\n",
    "# Test the model Metrics\n",
    "y_pred = rf.predict(X_test)\n",
    "\n",
    "mse = round(np.sqrt(mean_squared_error(y_test,y_pred)),4)\n",
    "print('Mean Squared Error (MSE): ',mse)\n",
    "print('R- Squared (R-square): ',r2_score(y_test,y_pred))\n"
   ]
  },
  {
   "cell_type": "code",
   "execution_count": 70,
   "id": "15e896ab",
   "metadata": {},
   "outputs": [],
   "source": [
    "#XGB\n",
    "from sklearn.model_selection import train_test_split\n",
    "from sklearn.metrics import mean_squared_error \n",
    "from sklearn.metrics import accuracy_score, mean_absolute_error, r2_score, explained_variance_score\n",
    "from sklearn.model_selection import cross_val_score\n",
    "from sklearn.model_selection import RepeatedKFold\n",
    "import catboost as ctb\n",
    "from xgboost.sklearn import XGBRegressor\n",
    "\n",
    "np.random.seed(7)"
   ]
  },
  {
   "cell_type": "code",
   "execution_count": 67,
   "id": "4cc20422",
   "metadata": {},
   "outputs": [
    {
     "name": "stdout",
     "output_type": "stream",
     "text": [
      "Fitting 2 folds for each of 48 candidates, totalling 96 fits\n",
      "[17:07:16] WARNING: C:/buildkite-agent/builds/buildkite-windows-cpu-autoscaling-group-i-030221e36e1a46bfb-1/xgboost/xgboost-ci-windows/src/learner.cc:767: \n",
      "Parameters: { \"silent\" } are not used.\n",
      "\n",
      "-132.80372592206544\n",
      "{'colsample_bytree': 0.7, 'learning_rate': 0.03, 'max_depth': 10, 'min_child_weight': 4, 'n_estimators': 1000, 'nthread': 4, 'objective': 'reg:squarederror', 'silent': 1, 'subsample': 0.7}\n"
     ]
    }
   ],
   "source": [
    "\n",
    "from xgboost.sklearn import XGBRegressor\n",
    "from sklearn.model_selection import GridSearchCV\n",
    "\n",
    "xgb1 = XGBRegressor()\n",
    "parameters = {'nthread':[4], \n",
    "              'objective':['reg:squarederror'],\n",
    "              'learning_rate': [.03, 0.05, .07, 0.015], \n",
    "              'max_depth': [5, 6, 7, 10],\n",
    "              'min_child_weight': [4],\n",
    "              'silent': [1],\n",
    "              'subsample': [0.7],\n",
    "              'colsample_bytree': [0.7],\n",
    "              'n_estimators': [500,700, 1000]}\n",
    "\n",
    "xgb_grid = GridSearchCV(xgb1,\n",
    "                        parameters,\n",
    "                        cv = 2,\n",
    "                        n_jobs = 5,\n",
    "                        scoring = 'neg_mean_squared_error',\n",
    "                        verbose=True)\n",
    "\n",
    "xgb_grid.fit(X_train, y_train)\n",
    "\n",
    "print(xgb_grid.best_score_)\n",
    "print(xgb_grid.best_params_)"
   ]
  },
  {
   "cell_type": "code",
   "execution_count": 68,
   "id": "ac617f67",
   "metadata": {},
   "outputs": [],
   "source": [
    "from numpy import asarray\n",
    "from numpy import mean\n",
    "from numpy import std"
   ]
  },
  {
   "cell_type": "code",
   "execution_count": 71,
   "id": "963585a3",
   "metadata": {},
   "outputs": [
    {
     "name": "stdout",
     "output_type": "stream",
     "text": [
      "MAE: -9.954 (0.817)\n",
      "[17:09:23] WARNING: C:/buildkite-agent/builds/buildkite-windows-cpu-autoscaling-group-i-030221e36e1a46bfb-1/xgboost/xgboost-ci-windows/src/learner.cc:767: \n",
      "Parameters: { \"n_thread\" } are not used.\n",
      "\n",
      "Mean Diff:  6.576269465132016\n",
      "Mean Squared Error (MSE):  9.4425\n",
      "R- Squared (R-square):  0.9739723009654976\n"
     ]
    }
   ],
   "source": [
    "best_param = xgb_grid.best_params_\n",
    "\n",
    "# evaluate the model\n",
    "model = XGBRegressor(objective='reg:squarederror',\n",
    "                     colsample_bytree = best_param['colsample_bytree'],\n",
    "                     learning_rate = best_param['learning_rate'],\n",
    "                     max_depth = best_param['max_depth'],\n",
    "                     min_child_weight = best_param['min_child_weight'],\n",
    "                     n_estimators = best_param['n_estimators'],\n",
    "                     n_thread = 4)\n",
    "cv = RepeatedKFold(n_splits=10, n_repeats=3, random_state=1)\n",
    "n_scores = cross_val_score(model, X_train, y_train,\n",
    "                           scoring='neg_root_mean_squared_error',\n",
    "                           cv=cv, n_jobs=-1,\n",
    "                           error_score='raise')\n",
    "print('MAE: %.3f (%.3f)' % (mean(n_scores), std(n_scores)))\n",
    "# fit the model on the whole dataset\n",
    "model = XGBRegressor(objective='reg:squarederror',\n",
    "                     colsample_bytree = best_param['colsample_bytree'],\n",
    "                     learning_rate = best_param['learning_rate'],\n",
    "                     max_depth = best_param['max_depth'],\n",
    "                     min_child_weight = best_param['min_child_weight'],\n",
    "                     n_estimators = best_param['n_estimators'],\n",
    "                     n_thread = 4)\n",
    "model.fit(X_train, y_train)\n",
    "\n",
    "#Test the model\n",
    "y_pred = model.predict(X_test)\n",
    "\n",
    "pred = model.predict(X_test)\n",
    "frames = [pred, y_test.values]\n",
    "result_pred = pd.DataFrame(data=frames)\n",
    "result_pred=result_pred.T\n",
    "\n",
    "result_pred_XGB=result_pred.rename(columns={0:'Pred_XGB',1:'Real'})\n",
    "result_pred_XGB[\"Pred_XGB\"]=result_pred_XGB[\"Pred_XGB\"].map(lambda x:round(x,2))\n",
    "result_pred_XGB[\"Diff\"]=result_pred_XGB[\"Pred_XGB\"]-result_pred_XGB[\"Real\"]\n",
    "result_pred_XGB[\"Diff\"]=result_pred_XGB[\"Diff\"]\n",
    "print(\"Mean Diff: \",abs(result_pred_XGB[\"Diff\"]).mean())\n",
    "result_pred_XGB.head(20)\n",
    "\n",
    "mse = round(np.sqrt(mean_squared_error(y_test,y_pred)),4)\n",
    "print('Mean Squared Error (MSE): ',mse)\n",
    "print('R- Squared (R-square): ',r2_score(y_test,y_pred))\n"
   ]
  }
 ],
 "metadata": {
  "kernelspec": {
   "display_name": "Python 3",
   "language": "python",
   "name": "python3"
  },
  "language_info": {
   "codemirror_mode": {
    "name": "ipython",
    "version": 3
   },
   "file_extension": ".py",
   "mimetype": "text/x-python",
   "name": "python",
   "nbconvert_exporter": "python",
   "pygments_lexer": "ipython3",
   "version": "3.8.8"
  }
 },
 "nbformat": 4,
 "nbformat_minor": 5
}
